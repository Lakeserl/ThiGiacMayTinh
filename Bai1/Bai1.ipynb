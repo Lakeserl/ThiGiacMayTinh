{
 "cells": [
  {
   "metadata": {
    "ExecuteTime": {
     "end_time": "2024-08-23T13:36:53.140885Z",
     "start_time": "2024-08-23T13:36:53.136101Z"
    }
   },
   "cell_type": "code",
   "source": [
    "a = 5\n",
    "b = 6\n",
    "c = a + b\n",
    "print(c)"
   ],
   "id": "initial_id",
   "outputs": [
    {
     "name": "stdout",
     "output_type": "stream",
     "text": [
      "11\n"
     ]
    }
   ],
   "execution_count": 1
  },
  {
   "metadata": {},
   "cell_type": "markdown",
   "source": "import ",
   "id": "22e4240e5b77682b"
  },
  {
   "metadata": {},
   "cell_type": "markdown",
   "source": "",
   "id": "8f02414bf398882b"
  },
  {
   "metadata": {},
   "cell_type": "code",
   "outputs": [],
   "execution_count": null,
   "source": "",
   "id": "b5b23908aa033cc8"
  }
 ],
 "metadata": {
  "kernelspec": {
   "display_name": "Python 3",
   "language": "python",
   "name": "python3"
  },
  "language_info": {
   "codemirror_mode": {
    "name": "ipython",
    "version": 2
   },
   "file_extension": ".py",
   "mimetype": "text/x-python",
   "name": "python",
   "nbconvert_exporter": "python",
   "pygments_lexer": "ipython2",
   "version": "2.7.6"
  }
 },
 "nbformat": 4,
 "nbformat_minor": 5
}
