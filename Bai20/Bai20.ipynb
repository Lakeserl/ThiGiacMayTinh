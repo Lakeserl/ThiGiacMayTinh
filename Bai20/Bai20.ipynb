{
 "cells": [
  {
   "cell_type": "code",
   "id": "initial_id",
   "metadata": {
    "collapsed": true,
    "ExecuteTime": {
     "end_time": "2024-10-04T09:53:39.577652Z",
     "start_time": "2024-10-04T09:53:39.573939Z"
    }
   },
   "source": [
    "import cv2\n",
    "import numpy as np"
   ],
   "outputs": [],
   "execution_count": 17
  },
  {
   "metadata": {
    "ExecuteTime": {
     "end_time": "2024-10-04T09:53:39.592551Z",
     "start_time": "2024-10-04T09:53:39.589439Z"
    }
   },
   "cell_type": "code",
   "source": [
    "def display(title, img):\n",
    "    cv2.imshow(title, img)\n",
    "    cv2.waitKey(0)\n",
    "    cv2.destroyWindow(title)"
   ],
   "id": "87bb73fd623df479",
   "outputs": [],
   "execution_count": 18
  },
  {
   "metadata": {
    "ExecuteTime": {
     "end_time": "2024-10-04T10:05:30.251239Z",
     "start_time": "2024-10-04T09:53:39.604277Z"
    }
   },
   "cell_type": "code",
   "source": [
    "img =  np.zeros((400, 400, 3), dtype=np.uint8)\n",
    "display('Image', img)"
   ],
   "id": "91dab08850c3e61b",
   "outputs": [
    {
     "ename": "error",
     "evalue": "OpenCV(4.10.0) D:\\a\\opencv-python\\opencv-python\\opencv\\modules\\highgui\\src\\window_w32.cpp:1261: error: (-27:Null pointer) NULL window: 'Image' in function 'cvDestroyWindow'\n",
     "output_type": "error",
     "traceback": [
      "\u001B[1;31m---------------------------------------------------------------------------\u001B[0m",
      "\u001B[1;31merror\u001B[0m                                     Traceback (most recent call last)",
      "Cell \u001B[1;32mIn[19], line 2\u001B[0m\n\u001B[0;32m      1\u001B[0m img \u001B[38;5;241m=\u001B[39m  np\u001B[38;5;241m.\u001B[39mzeros((\u001B[38;5;241m400\u001B[39m, \u001B[38;5;241m400\u001B[39m, \u001B[38;5;241m3\u001B[39m), dtype\u001B[38;5;241m=\u001B[39mnp\u001B[38;5;241m.\u001B[39muint8)\n\u001B[1;32m----> 2\u001B[0m \u001B[43mdisplay\u001B[49m\u001B[43m(\u001B[49m\u001B[38;5;124;43m'\u001B[39;49m\u001B[38;5;124;43mImage\u001B[39;49m\u001B[38;5;124;43m'\u001B[39;49m\u001B[43m,\u001B[49m\u001B[43m \u001B[49m\u001B[43mimg\u001B[49m\u001B[43m)\u001B[49m\n",
      "Cell \u001B[1;32mIn[18], line 4\u001B[0m, in \u001B[0;36mdisplay\u001B[1;34m(title, img)\u001B[0m\n\u001B[0;32m      2\u001B[0m cv2\u001B[38;5;241m.\u001B[39mimshow(title, img)\n\u001B[0;32m      3\u001B[0m cv2\u001B[38;5;241m.\u001B[39mwaitKey(\u001B[38;5;241m0\u001B[39m)\n\u001B[1;32m----> 4\u001B[0m \u001B[43mcv2\u001B[49m\u001B[38;5;241;43m.\u001B[39;49m\u001B[43mdestroyWindow\u001B[49m\u001B[43m(\u001B[49m\u001B[43mtitle\u001B[49m\u001B[43m)\u001B[49m\n",
      "\u001B[1;31merror\u001B[0m: OpenCV(4.10.0) D:\\a\\opencv-python\\opencv-python\\opencv\\modules\\highgui\\src\\window_w32.cpp:1261: error: (-27:Null pointer) NULL window: 'Image' in function 'cvDestroyWindow'\n"
     ]
    }
   ],
   "execution_count": 19
  },
  {
   "metadata": {},
   "cell_type": "code",
   "outputs": [],
   "execution_count": null,
   "source": [
    "img = np.zeros((400, 400, 3), dtype=np.uint8)\n",
    "display('Image', img)"
   ],
   "id": "a101c653fe08837f"
  },
  {
   "metadata": {
    "ExecuteTime": {
     "end_time": "2024-10-04T10:05:30.254575900Z",
     "start_time": "2024-10-04T09:42:44.118111Z"
    }
   },
   "cell_type": "code",
   "source": [
    "cv2.line(img, (50, 50), (350, 50), (128, 0, 128), 2)\n",
    "display('Image', img)"
   ],
   "id": "57f5d3dbf68408f5",
   "outputs": [
    {
     "ename": "NameError",
     "evalue": "name 'cv2' is not defined",
     "output_type": "error",
     "traceback": [
      "\u001B[1;31m---------------------------------------------------------------------------\u001B[0m",
      "\u001B[1;31mNameError\u001B[0m                                 Traceback (most recent call last)",
      "Cell \u001B[1;32mIn[4], line 1\u001B[0m\n\u001B[1;32m----> 1\u001B[0m \u001B[43mcv2\u001B[49m\u001B[38;5;241m.\u001B[39mline(img, (\u001B[38;5;241m50\u001B[39m, \u001B[38;5;241m50\u001B[39m), (\u001B[38;5;241m350\u001B[39m, \u001B[38;5;241m50\u001B[39m), (\u001B[38;5;241m128\u001B[39m, \u001B[38;5;241m0\u001B[39m, \u001B[38;5;241m128\u001B[39m), \u001B[38;5;241m2\u001B[39m)\n\u001B[0;32m      2\u001B[0m display(\u001B[38;5;124m'\u001B[39m\u001B[38;5;124mImage\u001B[39m\u001B[38;5;124m'\u001B[39m, img)\n",
      "\u001B[1;31mNameError\u001B[0m: name 'cv2' is not defined"
     ]
    }
   ],
   "execution_count": 4
  },
  {
   "metadata": {
    "ExecuteTime": {
     "end_time": "2024-10-04T10:05:30.254575900Z",
     "start_time": "2024-10-04T09:39:35.071857Z"
    }
   },
   "cell_type": "code",
   "source": [
    "cv2.circle(img, (100, 100), 50, (0, 165, 255), -1)\n",
    "display('Image', img)"
   ],
   "id": "6ff0f1df3f868c92",
   "outputs": [],
   "execution_count": 7
  },
  {
   "metadata": {
    "ExecuteTime": {
     "end_time": "2024-10-04T10:05:30.254575900Z",
     "start_time": "2024-10-04T09:42:41.995718Z"
    }
   },
   "cell_type": "code",
   "source": [
    "cv2.rectangle(img, (100, 100), (300, 300), (255, 255, 0), -3)\n",
    "display('Image', img)"
   ],
   "id": "14d514cd27358d2",
   "outputs": [
    {
     "ename": "NameError",
     "evalue": "name 'cv2' is not defined",
     "output_type": "error",
     "traceback": [
      "\u001B[1;31m---------------------------------------------------------------------------\u001B[0m",
      "\u001B[1;31mNameError\u001B[0m                                 Traceback (most recent call last)",
      "Cell \u001B[1;32mIn[1], line 1\u001B[0m\n\u001B[1;32m----> 1\u001B[0m \u001B[43mcv2\u001B[49m\u001B[38;5;241m.\u001B[39mrectangle(img, (\u001B[38;5;241m100\u001B[39m, \u001B[38;5;241m100\u001B[39m), (\u001B[38;5;241m300\u001B[39m, \u001B[38;5;241m300\u001B[39m), (\u001B[38;5;241m255\u001B[39m, \u001B[38;5;241m255\u001B[39m, \u001B[38;5;241m0\u001B[39m), \u001B[38;5;241m-\u001B[39m\u001B[38;5;241m3\u001B[39m)\n\u001B[0;32m      2\u001B[0m display(\u001B[38;5;124m'\u001B[39m\u001B[38;5;124mImage\u001B[39m\u001B[38;5;124m'\u001B[39m, img)\n",
      "\u001B[1;31mNameError\u001B[0m: name 'cv2' is not defined"
     ]
    }
   ],
   "execution_count": 1
  },
  {
   "metadata": {},
   "cell_type": "code",
   "outputs": [],
   "execution_count": null,
   "source": [
    "content = 'Vu Dinh Lam'\n",
    "font = cv2.FONT_HERSHEY_SIMPLEX\n",
    "cv2.putText(img, content, (10, 380), font, 0.6, (255, 255, 255), 2)\n",
    "display('Image', img)"
   ],
   "id": "8a2ae8351e0e8ba8"
  },
  {
   "metadata": {},
   "cell_type": "code",
   "outputs": [],
   "execution_count": null,
   "source": "",
   "id": "f5e208fcca3ace26"
  }
 ],
 "metadata": {
  "kernelspec": {
   "display_name": "Python 3",
   "language": "python",
   "name": "python3"
  },
  "language_info": {
   "codemirror_mode": {
    "name": "ipython",
    "version": 2
   },
   "file_extension": ".py",
   "mimetype": "text/x-python",
   "name": "python",
   "nbconvert_exporter": "python",
   "pygments_lexer": "ipython2",
   "version": "2.7.6"
  }
 },
 "nbformat": 4,
 "nbformat_minor": 5
}
