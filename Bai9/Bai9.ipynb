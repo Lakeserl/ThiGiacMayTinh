{
 "cells": [
  {
   "cell_type": "code",
   "execution_count": null,
   "id": "initial_id",
   "metadata": {
    "collapsed": true
   },
   "outputs": [],
   "source": [
    "from PIL import Image\n",
    "import matplotlib.pyplot as plt\n",
    "import numpy as np"
   ]
  },
  {
   "metadata": {},
   "cell_type": "code",
   "outputs": [],
   "execution_count": null,
   "source": [
    "my_path = \"C:/Users/dinhl/Pictures/background/1.jpg\"\n",
    "im = Image.open(my_path)\n",
    "plt.imshow(im)"
   ],
   "id": "3e4969b2f89a6d32"
  },
  {
   "metadata": {},
   "cell_type": "code",
   "outputs": [],
   "execution_count": null,
   "source": [
    "im_gray = im.convert('L')\n",
    "plt.imshow(im_gray, cmap='gray')"
   ],
   "id": "f8936ecf830a5c1d"
  },
  {
   "metadata": {},
   "cell_type": "code",
   "outputs": [],
   "execution_count": null,
   "source": [
    "im_array = np.array(im_gray)\n",
    "print(im_array)"
   ],
   "id": "9e592ae33bc6651c"
  },
  {
   "metadata": {},
   "cell_type": "code",
   "outputs": [],
   "execution_count": null,
   "source": [
    "plt.figure()\n",
    "plt.hist(im_array.flatten(), bins=128)\n",
    "plt.title('Biểu đồ Histogram của ảnh')\n",
    "plt.xlabel('Giá trị của pixel')\n",
    "plt.ylabel('Số lượng')\n",
    "plt.show()"
   ],
   "id": "ad056aba0562f4dd"
  },
  {
   "metadata": {},
   "cell_type": "code",
   "outputs": [],
   "execution_count": null,
   "source": [
    "plt.figure()\n",
    "plt.gray()\n",
    "plt.contour(im_gray, origin=\"image\")\n",
    "plt.show()"
   ],
   "id": "2a62f19a89cdcf11"
  },
  {
   "metadata": {},
   "cell_type": "code",
   "outputs": [],
   "execution_count": null,
   "source": [
    "my_path = \"C:/Users/dinhl/Pictures/background/1.jpg\"\n",
    "im = Image.open(my_path).convert(\"L\")\n",
    "plt.imshow(im)\n",
    "\n",
    "# Tạo một ình vẽ mới\n",
    "plt.figure()\n",
    "\n",
    "# Đặt màu sắc là xám\n",
    "plt.gray()\n",
    "\n",
    "# Vẽ biểu đồ đường biên (contour) của ảnh\n",
    "plt.contour(im, origin=\"image\")\n",
    "\n",
    "# Đảm bảo tỷ lệ trục x và trục y trên biểu đồ là bằng nhau\n",
    "plt.axis('equal')\n",
    "\n",
    "# hiển thị ảnh\n",
    "plt.show()"
   ],
   "id": "3ab3ff3dca0b73e4"
  }
 ],
 "metadata": {
  "kernelspec": {
   "display_name": "Python 3",
   "language": "python",
   "name": "python3"
  },
  "language_info": {
   "codemirror_mode": {
    "name": "ipython",
    "version": 2
   },
   "file_extension": ".py",
   "mimetype": "text/x-python",
   "name": "python",
   "nbconvert_exporter": "python",
   "pygments_lexer": "ipython2",
   "version": "2.7.6"
  }
 },
 "nbformat": 4,
 "nbformat_minor": 5
}
