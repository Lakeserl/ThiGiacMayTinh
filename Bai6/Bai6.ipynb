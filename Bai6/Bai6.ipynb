{
 "cells": [
  {
   "cell_type": "code",
   "execution_count": null,
   "id": "initial_id",
   "metadata": {
    "collapsed": true
   },
   "outputs": [],
   "source": [
    "\n",
    "from Bai7.imgtools import *"
   ]
  },
  {
   "metadata": {},
   "cell_type": "code",
   "outputs": [],
   "execution_count": null,
   "source": "dir = \"C:/Users/dinhl/Pictures/background/anh4.jpg\"",
   "id": "aa62b1267d7baff"
  },
  {
   "metadata": {},
   "cell_type": "code",
   "outputs": [],
   "execution_count": null,
   "source": "img = load_image(dir)",
   "id": "2c776d477d7964e4"
  },
  {
   "metadata": {},
   "cell_type": "code",
   "outputs": [],
   "execution_count": null,
   "source": "display(img)",
   "id": "df7a488be17f7e7e"
  },
  {
   "metadata": {},
   "cell_type": "code",
   "outputs": [],
   "execution_count": null,
   "source": [
    "turn_to_gray = img.convert(\"L\")\n",
    "display(turn_to_gray)"
   ],
   "id": "f67e66f920588603"
  },
  {
   "metadata": {},
   "cell_type": "code",
   "outputs": [],
   "execution_count": null,
   "source": [
    "turn_thick, turn_normal, turn_light = img.split()\n",
    "display(turn_thick)\n",
    "display(turn_normal)\n",
    "display(turn_light)"
   ],
   "id": "b8a8065fdb23fe0b"
  },
  {
   "metadata": {},
   "cell_type": "code",
   "outputs": [],
   "execution_count": null,
   "source": [
    "merge_images = Image.merge(\"RGB\", (turn_thick, turn_normal, turn_light))\n",
    "display(merge_images)"
   ],
   "id": "3cf7fc2a2e11f13b"
  }
 ],
 "metadata": {
  "kernelspec": {
   "display_name": "Python 3",
   "language": "python",
   "name": "python3"
  },
  "language_info": {
   "codemirror_mode": {
    "name": "ipython",
    "version": 2
   },
   "file_extension": ".py",
   "mimetype": "text/x-python",
   "name": "python",
   "nbconvert_exporter": "python",
   "pygments_lexer": "ipython2",
   "version": "2.7.6"
  }
 },
 "nbformat": 4,
 "nbformat_minor": 5
}
