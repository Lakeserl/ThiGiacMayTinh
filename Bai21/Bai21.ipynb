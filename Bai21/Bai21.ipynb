{
 "cells": [
  {
   "cell_type": "code",
   "id": "initial_id",
   "metadata": {
    "collapsed": true,
    "ExecuteTime": {
     "end_time": "2024-10-04T10:09:38.884091Z",
     "start_time": "2024-10-04T10:09:38.880129Z"
    }
   },
   "source": "import cv2",
   "outputs": [],
   "execution_count": 8
  },
  {
   "metadata": {
    "ExecuteTime": {
     "end_time": "2024-10-04T10:09:38.972048Z",
     "start_time": "2024-10-04T10:09:38.892517Z"
    }
   },
   "cell_type": "code",
   "source": "my_video = cv2.VideoCapture('C:/Users/dinhl/Downloads/video.mp4')\n",
   "id": "6b8a398ab2fb62fe",
   "outputs": [],
   "execution_count": 9
  },
  {
   "metadata": {
    "ExecuteTime": {
     "end_time": "2024-10-04T10:09:39.004353Z",
     "start_time": "2024-10-04T10:09:38.978626Z"
    }
   },
   "cell_type": "code",
   "source": "cv2.namedWindow('Video Player', cv2.WINDOW_NORMAL)",
   "id": "a49ea40527e3b7ed",
   "outputs": [],
   "execution_count": 10
  },
  {
   "metadata": {
    "ExecuteTime": {
     "end_time": "2024-10-04T10:10:04.103565Z",
     "start_time": "2024-10-04T10:09:39.022824Z"
    }
   },
   "cell_type": "code",
   "source": [
    "while True:\n",
    "    # Đọc 1 frame\n",
    "    ret, frame = my_video.read()\n",
    "    \n",
    "    # Thoát khi không thể đọc được frame\n",
    "    if not ret:\n",
    "        break\n",
    "    \n",
    "    # Hiển thị\n",
    "    cv2.imshow('Video Player', frame)\n",
    "    \n",
    "    if(cv2.waitKey(10)==ord('q')):\n",
    "        break"
   ],
   "id": "63a4491fa7e47d6a",
   "outputs": [],
   "execution_count": 11
  },
  {
   "metadata": {
    "ExecuteTime": {
     "end_time": "2024-10-04T10:10:04.130730Z",
     "start_time": "2024-10-04T10:10:04.111597Z"
    }
   },
   "cell_type": "code",
   "source": [
    "my_video.release\n",
    "cv2.destroyAllWindows()"
   ],
   "id": "4da24ea727d4a10a",
   "outputs": [],
   "execution_count": 12
  },
  {
   "metadata": {
    "ExecuteTime": {
     "end_time": "2024-10-04T10:10:04.160412Z",
     "start_time": "2024-10-04T10:10:04.158056Z"
    }
   },
   "cell_type": "code",
   "source": "",
   "id": "8ba1ecc3ea034b13",
   "outputs": [],
   "execution_count": null
  }
 ],
 "metadata": {
  "kernelspec": {
   "display_name": "Python 3",
   "language": "python",
   "name": "python3"
  },
  "language_info": {
   "codemirror_mode": {
    "name": "ipython",
    "version": 2
   },
   "file_extension": ".py",
   "mimetype": "text/x-python",
   "name": "python",
   "nbconvert_exporter": "python",
   "pygments_lexer": "ipython2",
   "version": "2.7.6"
  }
 },
 "nbformat": 4,
 "nbformat_minor": 5
}
