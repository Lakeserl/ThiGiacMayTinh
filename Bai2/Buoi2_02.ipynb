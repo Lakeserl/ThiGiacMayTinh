{
 "cells": [
  {
   "cell_type": "code",
   "id": "initial_id",
   "metadata": {
    "collapsed": true,
    "ExecuteTime": {
     "end_time": "2024-08-30T10:00:06.162814Z",
     "start_time": "2024-08-30T10:00:06.159091Z"
    }
   },
   "source": [
    "from PIL import Image\n",
    "from imgtools import *"
   ],
   "outputs": [],
   "execution_count": 21
  },
  {
   "metadata": {
    "ExecuteTime": {
     "end_time": "2024-08-30T10:00:07.800583Z",
     "start_time": "2024-08-30T10:00:07.797034Z"
    }
   },
   "cell_type": "code",
   "source": "my_dir = 'C:/Users/dinhl/Pictures/background'",
   "id": "270436250c0a4a56",
   "outputs": [],
   "execution_count": 22
  },
  {
   "metadata": {
    "ExecuteTime": {
     "end_time": "2024-08-30T10:00:13.861096Z",
     "start_time": "2024-08-30T10:00:13.844246Z"
    }
   },
   "cell_type": "code",
   "source": "imgs = get_image_list(my_dir)",
   "id": "73c7fe77ed4424c0",
   "outputs": [
    {
     "ename": "NameError",
     "evalue": "name 'get_image_list' is not defined",
     "output_type": "error",
     "traceback": [
      "\u001B[1;31m---------------------------------------------------------------------------\u001B[0m",
      "\u001B[1;31mNameError\u001B[0m                                 Traceback (most recent call last)",
      "Cell \u001B[1;32mIn[24], line 1\u001B[0m\n\u001B[1;32m----> 1\u001B[0m imgs \u001B[38;5;241m=\u001B[39m \u001B[43mget_image_list\u001B[49m(my_dir)\n",
      "\u001B[1;31mNameError\u001B[0m: name 'get_image_list' is not defined"
     ]
    }
   ],
   "execution_count": 24
  },
  {
   "metadata": {
    "ExecuteTime": {
     "end_time": "2024-08-30T10:00:18.017956Z",
     "start_time": "2024-08-30T10:00:18.004423Z"
    }
   },
   "cell_type": "code",
   "source": [
    "for img in imgs:\n",
    "    print(img.size)\n",
    "    display(img)"
   ],
   "id": "7736bdeec04e8846",
   "outputs": [
    {
     "ename": "NameError",
     "evalue": "name 'imgs' is not defined",
     "output_type": "error",
     "traceback": [
      "\u001B[1;31m---------------------------------------------------------------------------\u001B[0m",
      "\u001B[1;31mNameError\u001B[0m                                 Traceback (most recent call last)",
      "Cell \u001B[1;32mIn[25], line 1\u001B[0m\n\u001B[1;32m----> 1\u001B[0m \u001B[38;5;28;01mfor\u001B[39;00m img \u001B[38;5;129;01min\u001B[39;00m \u001B[43mimgs\u001B[49m:\n\u001B[0;32m      2\u001B[0m     \u001B[38;5;28mprint\u001B[39m(img\u001B[38;5;241m.\u001B[39msize)\n\u001B[0;32m      3\u001B[0m     display(img)\n",
      "\u001B[1;31mNameError\u001B[0m: name 'imgs' is not defined"
     ]
    }
   ],
   "execution_count": 25
  },
  {
   "metadata": {},
   "cell_type": "code",
   "outputs": [],
   "execution_count": null,
   "source": "",
   "id": "146368d7f3997888"
  }
 ],
 "metadata": {
  "kernelspec": {
   "display_name": "Python 3",
   "language": "python",
   "name": "python3"
  },
  "language_info": {
   "codemirror_mode": {
    "name": "ipython",
    "version": 2
   },
   "file_extension": ".py",
   "mimetype": "text/x-python",
   "name": "python",
   "nbconvert_exporter": "python",
   "pygments_lexer": "ipython2",
   "version": "2.7.6"
  }
 },
 "nbformat": 4,
 "nbformat_minor": 5
}
