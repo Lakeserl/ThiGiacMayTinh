{
 "cells": [
  {
   "cell_type": "code",
   "execution_count": null,
   "id": "initial_id",
   "metadata": {
    "collapsed": true
   },
   "outputs": [],
   "source": "from PIL import Image"
  },
  {
   "metadata": {
    "ExecuteTime": {
     "end_time": "2024-08-23T17:06:53.178494Z",
     "start_time": "2024-08-23T17:06:53.175176Z"
    }
   },
   "cell_type": "code",
   "source": [
    "# Tạo thư mục chứa hình ảnh\n",
    "dir = 'C:\\\\Users\\\\dinhl\\\\Documents\\\\GitHub\\\\ThiGiacMayTinh\\\\img'"
   ],
   "id": "8a939e535d199dc6",
   "outputs": [],
   "execution_count": 60
  },
  {
   "metadata": {
    "ExecuteTime": {
     "end_time": "2024-08-23T17:06:53.998743Z",
     "start_time": "2024-08-23T17:06:53.994815Z"
    }
   },
   "cell_type": "code",
   "source": [
    "image_path = dir + '\\\\cat_01.jpg'\n",
    "print(image_path)"
   ],
   "id": "5920efa31a207389",
   "outputs": [
    {
     "name": "stdout",
     "output_type": "stream",
     "text": [
      "C:\\Users\\dinhl\\Documents\\GitHub\\ThiGiacMayTinh\\img\\cat_01.jpg\n"
     ]
    }
   ],
   "execution_count": 61
  },
  {
   "metadata": {
    "ExecuteTime": {
     "end_time": "2024-08-23T17:06:54.425136Z",
     "start_time": "2024-08-23T17:06:54.420680Z"
    }
   },
   "cell_type": "code",
   "source": "cat_01 = Image.open(image_path)",
   "id": "b6e67a7ab46a826a",
   "outputs": [],
   "execution_count": 62
  },
  {
   "metadata": {
    "ExecuteTime": {
     "end_time": "2024-08-23T17:06:55.105452Z",
     "start_time": "2024-08-23T17:06:54.756896Z"
    }
   },
   "cell_type": "code",
   "source": "cat_01.show()",
   "id": "9517415bf4cadb49",
   "outputs": [],
   "execution_count": 63
  },
  {
   "metadata": {
    "ExecuteTime": {
     "end_time": "2024-08-23T17:06:55.109843Z",
     "start_time": "2024-08-23T17:06:55.105963Z"
    }
   },
   "cell_type": "code",
   "source": [
    "# In một số thông tin của hình ảnh \n",
    "print(\"Đinh dạng của ảnh: \", cat_01.format)"
   ],
   "id": "c2a4cecdda84f624",
   "outputs": [
    {
     "name": "stdout",
     "output_type": "stream",
     "text": [
      "Đinh dạng của ảnh:  JPEG\n"
     ]
    }
   ],
   "execution_count": 64
  },
  {
   "metadata": {
    "ExecuteTime": {
     "end_time": "2024-08-23T17:06:55.723329Z",
     "start_time": "2024-08-23T17:06:55.719021Z"
    }
   },
   "cell_type": "code",
   "source": "print(\"Kích thước hình ảnh: \", cat_01.size)\n",
   "id": "e7431fbd65f635ae",
   "outputs": [
    {
     "name": "stdout",
     "output_type": "stream",
     "text": [
      "Kích thước hình ảnh:  (1500, 1000)\n"
     ]
    }
   ],
   "execution_count": 65
  },
  {
   "metadata": {
    "ExecuteTime": {
     "end_time": "2024-08-23T17:11:18.357600Z",
     "start_time": "2024-08-23T17:11:18.353409Z"
    }
   },
   "cell_type": "code",
   "source": [
    "# Lưu ảnh\n",
    "new_img_01_path = dir + '\\\\cat_01.jpg'\n",
    "new_img_01_to_png = dir + '\\\\cat_01.png'\n",
    "\n",
    "cat_01.save(new_img_01_path)\n",
    "cat_01.save(new_img_01_to_png)"
   ],
   "id": "de26d48bf2a7f6bb",
   "outputs": [],
   "execution_count": 68
  },
  {
   "metadata": {
    "ExecuteTime": {
     "end_time": "2024-08-23T17:07:06.962550Z",
     "start_time": "2024-08-23T17:07:06.958755Z"
    }
   },
   "cell_type": "code",
   "source": [
    "# Đóng tập tin\n",
    "cat_01.close()"
   ],
   "id": "f0898424f30bc80a",
   "outputs": [],
   "execution_count": 66
  }
 ],
 "metadata": {
  "kernelspec": {
   "display_name": "Python 3",
   "language": "python",
   "name": "python3"
  },
  "language_info": {
   "codemirror_mode": {
    "name": "ipython",
    "version": 2
   },
   "file_extension": ".py",
   "mimetype": "text/x-python",
   "name": "python",
   "nbconvert_exporter": "python",
   "pygments_lexer": "ipython2",
   "version": "2.7.6"
  }
 },
 "nbformat": 4,
 "nbformat_minor": 5
}
