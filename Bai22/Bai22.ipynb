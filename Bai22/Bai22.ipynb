{
 "cells": [
  {
   "cell_type": "code",
   "id": "initial_id",
   "metadata": {
    "collapsed": true,
    "ExecuteTime": {
     "end_time": "2024-10-04T10:07:22.596380Z",
     "start_time": "2024-10-04T10:07:22.465142Z"
    }
   },
   "source": [
    "import cv2\n",
    "import time"
   ],
   "outputs": [],
   "execution_count": 1
  },
  {
   "metadata": {
    "ExecuteTime": {
     "end_time": "2024-10-04T10:07:22.736553Z",
     "start_time": "2024-10-04T10:07:22.600465Z"
    }
   },
   "cell_type": "code",
   "source": "my_video = cv2.VideoCapture('C:/Users/dinhl/Downloads/video.mp4')",
   "id": "75ff7dba22400f22",
   "outputs": [],
   "execution_count": 2
  },
  {
   "metadata": {
    "ExecuteTime": {
     "end_time": "2024-10-04T10:07:22.927257Z",
     "start_time": "2024-10-04T10:07:22.891147Z"
    }
   },
   "cell_type": "code",
   "source": "cv2.namedWindow('Video Player', cv2.WINDOW_NORMAL)",
   "id": "effa508657610226",
   "outputs": [],
   "execution_count": 3
  },
  {
   "metadata": {
    "ExecuteTime": {
     "end_time": "2024-10-04T10:07:22.946142Z",
     "start_time": "2024-10-04T10:07:22.942643Z"
    }
   },
   "cell_type": "code",
   "source": [
    "font = cv2.FONT_HERSHEY_SIMPLEX\n",
    "font_color = (255, 255, 255)\n",
    "font_scale = 2\n",
    "font_thicknes = 2"
   ],
   "id": "82096771ccfb2d0c",
   "outputs": [],
   "execution_count": 4
  },
  {
   "metadata": {
    "ExecuteTime": {
     "end_time": "2024-10-04T10:07:45.379560Z",
     "start_time": "2024-10-04T10:07:22.961732Z"
    }
   },
   "cell_type": "code",
   "source": [
    "while True:\n",
    "    start_time = time.time()\n",
    "    ret, frame = my_video.read()\n",
    "    if not ret:\n",
    "        break\n",
    "    end_time = time.time()    \n",
    "    fps = 1/(end_time-start_time)\n",
    "    cv2.putText(frame, f'FPS: {fps:.2f}', (100, 100), font, font_scale, font_color , font_thicknes)\n",
    "    cv2.imshow('Video Player', frame)\n",
    "    if(cv2.waitKey(10)==ord('q')):\n",
    "        break\n",
    "        \n",
    "my_video.release()\n",
    "cv2.destroyAllWindows()"
   ],
   "id": "716ee649a7679dfc",
   "outputs": [],
   "execution_count": 5
  },
  {
   "metadata": {
    "ExecuteTime": {
     "end_time": "2024-10-04T10:07:45.389330Z",
     "start_time": "2024-10-04T10:07:45.386505Z"
    }
   },
   "cell_type": "code",
   "source": "",
   "id": "1e817f0210dfa0f1",
   "outputs": [],
   "execution_count": null
  },
  {
   "metadata": {
    "ExecuteTime": {
     "end_time": "2024-10-04T10:07:45.400479Z",
     "start_time": "2024-10-04T10:07:45.397869Z"
    }
   },
   "cell_type": "code",
   "source": "",
   "id": "94f78f319e299a54",
   "outputs": [],
   "execution_count": null
  }
 ],
 "metadata": {
  "kernelspec": {
   "display_name": "Python 3",
   "language": "python",
   "name": "python3"
  },
  "language_info": {
   "codemirror_mode": {
    "name": "ipython",
    "version": 2
   },
   "file_extension": ".py",
   "mimetype": "text/x-python",
   "name": "python",
   "nbconvert_exporter": "python",
   "pygments_lexer": "ipython2",
   "version": "2.7.6"
  }
 },
 "nbformat": 4,
 "nbformat_minor": 5
}
