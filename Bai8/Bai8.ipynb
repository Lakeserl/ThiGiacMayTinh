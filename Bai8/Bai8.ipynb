{
 "cells": [
  {
   "cell_type": "code",
   "execution_count": null,
   "id": "initial_id",
   "metadata": {
    "collapsed": true
   },
   "outputs": [],
   "source": "import matplotlib.pyplot as plt"
  },
  {
   "metadata": {},
   "cell_type": "code",
   "outputs": [],
   "execution_count": null,
   "source": [
    "x = [1, 2, 3, 4, 5]\n",
    "y = [10, 16, 20, 30, 25]\n",
    "\n",
    "x1 = [1, 2, 3, 4, 5]\n",
    "y1 = [20, 15, 8, 9, 20]\n",
    "\n",
    "plt.plot(x, y, 'bo-', label='Dữ liệu')\n",
    "plt.plot(x1, y1, marker='o', color='r', linestyle='-', label='Dữ liệu-1')\n",
    "plt.legend() \n",
    "plt.xlabel('Trục x') \n",
    "plt.ylabel('Trục y') \n",
    "plt.show() "
   ],
   "id": "183918aef23ef3b3"
  },
  {
   "metadata": {},
   "cell_type": "code",
   "outputs": [],
   "execution_count": null,
   "source": [
    "categories = ['A', 'B', 'C', 'D', 'E']\n",
    "values = [15, 10, 25, 12, 18]\n",
    "\n",
    "plt.bar(categories, values, color='g', alpha=0.6) \n",
    "plt.xlabel('Danh mục')\n",
    "plt.ylabel('Giá trị')\n",
    "plt.show() "
   ],
   "id": "3b75fc8f767d6479"
  },
  {
   "metadata": {},
   "cell_type": "code",
   "outputs": [],
   "execution_count": null,
   "source": [
    "my_labels = ['A', 'B', 'C', 'D']\n",
    "sizes = [15, 30, 45, 10]\n",
    "my_colors = ['red', 'green', 'blue', 'yellow']\n",
    "\n",
    "plt.pie(sizes, labels=my_labels, colors = my_colors, autopct='%1.1f%%')\n",
    "plt.title('Biểu đồ hình tròn')\n",
    "plt.show()"
   ],
   "id": "2e558b0dbdd2fe0a"
  },
  {
   "metadata": {},
   "cell_type": "code",
   "outputs": [],
   "execution_count": null,
   "source": [
    "import matplotlib.pyplot as plt\n",
    "\n",
    "x = [1, 2, 3, 4, 5]\n",
    "y = [10, 16, 20, 30, 25]\n",
    "\n",
    "plt.scatter(x, y, c='r', marker='o', label='Dữ liệu') \n",
    "plt.title('Biểu đồ phân tán ví dụ')  \n",
    "plt.xlabel('Trục x')  \n",
    "plt.ylabel('Trục y') \n",
    "plt.legend()\n",
    "plt.show()"
   ],
   "id": "bb4ba3b00724ad21"
  },
  {
   "metadata": {},
   "cell_type": "code",
   "outputs": [],
   "execution_count": null,
   "source": [
    "import matplotlib.pyplot as plt\n",
    "\n",
    "data = [15, 18, 22, 30, 35, 45, 50, 55, 65]\n",
    "\n",
    "plt.boxplot(data) \n",
    "plt.title('Biểu đồ hộp ví dụ')\n",
    "plt.ylabel('Giá trị') \n",
    "plt.show() "
   ],
   "id": "6f667ee63caacadb"
  },
  {
   "metadata": {},
   "cell_type": "code",
   "outputs": [],
   "execution_count": null,
   "source": [
    "import matplotlib.pyplot as plt\n",
    "\n",
    "data = [15, 18, 22, 30, 35, 45, 50, 55, 65]\n",
    "\n",
    "plt.violinplot(data) \n",
    "plt.title('Biểu đồ violin ví dụ')  \n",
    "plt.ylabel('Giá trị')  \n",
    "plt.show() "
   ],
   "id": "8035f7e8436d417a"
  },
  {
   "metadata": {},
   "cell_type": "code",
   "outputs": [],
   "execution_count": null,
   "source": [
    "import matplotlib.pyplot as plt\n",
    "import numpy as np\n",
    "\n",
    "categories = ['A', 'B', 'C', 'D', 'E']\n",
    "values = [5, 4, 3, 7, 6]\n",
    "\n",
    "N = len(categories)\n",
    "values += values[:1]\n",
    "\n",
    "angles = [n / float(N) * 2 * np.pi for n in range(N)]\n",
    "angles += angles[:1]\n",
    "\n",
    "plt.polar(angles, values, 'o-', linewidth=2)\n",
    "plt.fill(angles, values, 'b', alpha=0.1)\n",
    "plt.title('Biểu đồ radar')\n",
    "plt.show()"
   ],
   "id": "e70da07661a603b5"
  },
  {
   "metadata": {},
   "cell_type": "code",
   "outputs": [],
   "execution_count": null,
   "source": "",
   "id": "6675e30de92da00"
  }
 ],
 "metadata": {
  "kernelspec": {
   "display_name": "Python 3",
   "language": "python",
   "name": "python3"
  },
  "language_info": {
   "codemirror_mode": {
    "name": "ipython",
    "version": 2
   },
   "file_extension": ".py",
   "mimetype": "text/x-python",
   "name": "python",
   "nbconvert_exporter": "python",
   "pygments_lexer": "ipython2",
   "version": "2.7.6"
  }
 },
 "nbformat": 4,
 "nbformat_minor": 5
}
