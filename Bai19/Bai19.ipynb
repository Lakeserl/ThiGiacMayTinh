{
 "cells": [
  {
   "metadata": {},
   "cell_type": "markdown",
   "source": "",
   "id": "175de9d0746a2887"
  },
  {
   "metadata": {
    "ExecuteTime": {
     "end_time": "2024-10-04T09:19:41.071387Z",
     "start_time": "2024-10-04T09:19:41.067552Z"
    }
   },
   "cell_type": "code",
   "source": [
    "def display(title, img):\n",
    "    cv2.imshow(title, img)\n",
    "    # Chờ một khoảng thời gian\n",
    "    cv2.waitKey(0)\n",
    "    # Đóng window\n",
    "    cv2.destroyWindow(title)"
   ],
   "id": "69405d4cc843081",
   "outputs": [],
   "execution_count": 47
  },
  {
   "cell_type": "code",
   "id": "initial_id",
   "metadata": {
    "collapsed": true,
    "ExecuteTime": {
     "end_time": "2024-10-04T09:19:41.084940Z",
     "start_time": "2024-10-04T09:19:41.082022Z"
    }
   },
   "source": [
    "import cv2\n",
    "import numpy as np "
   ],
   "outputs": [],
   "execution_count": 48
  },
  {
   "metadata": {
    "ExecuteTime": {
     "end_time": "2024-10-04T09:19:41.125187Z",
     "start_time": "2024-10-04T09:19:41.094198Z"
    }
   },
   "cell_type": "code",
   "source": [
    "path= 'C:/Users/dinhl/Pictures/picture/1.jpg'\n",
    "img = cv2.imread(path)\n",
    "print(img)"
   ],
   "id": "4c4851c136862419",
   "outputs": [
    {
     "name": "stdout",
     "output_type": "stream",
     "text": [
      "[[[179 164  41]\n",
      "  [179 164  41]\n",
      "  [180 165  42]\n",
      "  ...\n",
      "  [176 165  44]\n",
      "  [178 165  43]\n",
      "  [177 164  42]]\n",
      "\n",
      " [[180 165  42]\n",
      "  [179 164  41]\n",
      "  [180 165  42]\n",
      "  ...\n",
      "  [176 165  44]\n",
      "  [178 165  43]\n",
      "  [178 165  43]]\n",
      "\n",
      " [[180 165  42]\n",
      "  [180 165  42]\n",
      "  [180 165  42]\n",
      "  ...\n",
      "  [177 166  44]\n",
      "  [177 166  44]\n",
      "  [177 166  44]]\n",
      "\n",
      " ...\n",
      "\n",
      " [[ 54  26   9]\n",
      "  [ 54  26   9]\n",
      "  [ 54  26   9]\n",
      "  ...\n",
      "  [ 54  26   9]\n",
      "  [ 53  25   8]\n",
      "  [ 53  25   8]]\n",
      "\n",
      " [[ 54  26   9]\n",
      "  [ 54  26   9]\n",
      "  [ 54  26   9]\n",
      "  ...\n",
      "  [ 54  26   9]\n",
      "  [ 56  26   9]\n",
      "  [ 55  25   8]]\n",
      "\n",
      " [[ 54  26   9]\n",
      "  [ 54  26   9]\n",
      "  [ 54  26   9]\n",
      "  ...\n",
      "  [ 54  26   9]\n",
      "  [ 56  26   9]\n",
      "  [ 56  26   9]]]\n"
     ]
    }
   ],
   "execution_count": 49
  },
  {
   "metadata": {
    "ExecuteTime": {
     "end_time": "2024-10-04T09:19:41.141484Z",
     "start_time": "2024-10-04T09:19:41.136395Z"
    }
   },
   "cell_type": "code",
   "source": [
    "# Lấy kích thước\n",
    "print(img.shape)\n",
    "x, y, z = img.shape\n",
    "print(x)\n",
    "print(y)\n",
    "print(z)"
   ],
   "id": "57632af458c28ff9",
   "outputs": [
    {
     "name": "stdout",
     "output_type": "stream",
     "text": [
      "(1280, 1920, 3)\n",
      "1280\n",
      "1920\n",
      "3\n"
     ]
    }
   ],
   "execution_count": 50
  },
  {
   "metadata": {
    "ExecuteTime": {
     "end_time": "2024-10-04T09:19:51.211859Z",
     "start_time": "2024-10-04T09:19:41.157047Z"
    }
   },
   "cell_type": "code",
   "source": [
    "cv2.imshow('Window', img)\n",
    "# Chờ một khoảng thời gian\n",
    "cv2.waitKey(10000)\n",
    "# Đóng window\n",
    "cv2.destroyWindow('Window')"
   ],
   "id": "f4c3ea95c73cd0cd",
   "outputs": [],
   "execution_count": 51
  },
  {
   "metadata": {
    "ExecuteTime": {
     "end_time": "2024-10-04T09:20:33.039762Z",
     "start_time": "2024-10-04T09:19:51.221771Z"
    }
   },
   "cell_type": "code",
   "source": [
    "b, g, r = cv2.split(img)\n",
    "cv2.imshow('Window', img)\n",
    "cv2.imshow('Red', r)\n",
    "cv2.imshow('Green', g)\n",
    "cv2.imshow('Blue', b)\n",
    "\n",
    "# Chờ một khoảng thời gian\n",
    "cv2.waitKey(0)\n",
    "# Đóng window\n",
    "cv2.destroyAllWindows()\n"
   ],
   "id": "231651768519aeba",
   "outputs": [],
   "execution_count": 52
  },
  {
   "metadata": {
    "ExecuteTime": {
     "end_time": "2024-10-04T09:20:35.661510Z",
     "start_time": "2024-10-04T09:20:33.048372Z"
    }
   },
   "cell_type": "code",
   "source": [
    "gray_img = cv2.cvtColor(img, cv2.COLOR_BGR2GRAY)\n",
    "img_2 = cv2.cvtColor(img, cv2.COLOR_BGR2RGB)\n",
    "cv2.imshow('Window', img)\n",
    "cv2.imshow('gray_img', gray_img)\n",
    "cv2.imshow('img_2', img_2)\n",
    "# Chờ một khoảng thời gian\n",
    "cv2.waitKey(0)\n",
    "# Đóng window\n",
    "cv2.destroyAllWindows()"
   ],
   "id": "f843e07baaabffea",
   "outputs": [],
   "execution_count": 53
  }
 ],
 "metadata": {
  "kernelspec": {
   "display_name": "Python 3",
   "language": "python",
   "name": "python3"
  },
  "language_info": {
   "codemirror_mode": {
    "name": "ipython",
    "version": 2
   },
   "file_extension": ".py",
   "mimetype": "text/x-python",
   "name": "python",
   "nbconvert_exporter": "python",
   "pygments_lexer": "ipython2",
   "version": "2.7.6"
  }
 },
 "nbformat": 4,
 "nbformat_minor": 5
}
